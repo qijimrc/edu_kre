{
 "cells": [
  {
   "cell_type": "markdown",
   "metadata": {},
   "source": [
    "## EDUKG1.0地理学科标注数据分析"
   ]
  },
  {
   "cell_type": "code",
   "execution_count": 1,
   "metadata": {},
   "outputs": [],
   "source": [
    "import pymysql\n",
    "conn = pymysql.connect(host='39.100.31.203', user='keg', password='keg@mysql', database='ziyuanku')\n",
    "cursor = conn.cursor()"
   ]
  },
  {
   "cell_type": "code",
   "execution_count": 2,
   "metadata": {},
   "outputs": [
    {
     "name": "stdout",
     "output_type": "stream",
     "text": [
      "((2308, 110, 'Chapter_05_30_知识1主要生态环境问题', 'Chapter_05_30_知识1主要生态环境问题.html', 9148, '/epub/110/Text/Chapter_05_30_知识1主要生态环境问题.html', 301, None),)\n"
     ]
    }
   ],
   "source": [
    "sql = \"select * from zyk_html where id=2308\"\n",
    "cursor.execute(sql)\n",
    "rt = cursor.fetchall()\n",
    "print(rt)"
   ]
  },
  {
   "cell_type": "code",
   "execution_count": null,
   "metadata": {},
   "outputs": [],
   "source": []
  }
 ],
 "metadata": {
  "kernelspec": {
   "display_name": "Python 3",
   "language": "python",
   "name": "python3"
  },
  "language_info": {
   "codemirror_mode": {
    "name": "ipython",
    "version": 3
   },
   "file_extension": ".py",
   "mimetype": "text/x-python",
   "name": "python",
   "nbconvert_exporter": "python",
   "pygments_lexer": "ipython3",
   "version": "3.6.3"
  }
 },
 "nbformat": 4,
 "nbformat_minor": 2
}
